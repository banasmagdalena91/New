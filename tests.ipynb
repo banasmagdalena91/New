{
 "cells": [
  {
   "cell_type": "code",
   "execution_count": 2,
   "outputs": [],
   "source": [
    "import pandas as pd"
   ],
   "metadata": {
    "collapsed": false
   }
  },
  {
   "cell_type": "code",
   "execution_count": 3,
   "outputs": [],
   "source": [
    "df_1_long = pd.DataFrame({\n",
    "'company_name': ['Company A', 'Company B', 'Company C'],\n",
    "'company_country': ['USA', 'Poland', 'Canada'],\n",
    "'keyword': ['holding', 'services', 'source'],\n",
    "'value': [1,0,1]\n",
    "})"
   ],
   "metadata": {
    "collapsed": false
   }
  },
  {
   "cell_type": "code",
   "execution_count": 4,
   "outputs": [],
   "source": [
    "df_training = pd.DataFrame({\n",
    "                  'holding': [1, 0, 0],\n",
    "                  'services': [0, 1, 0],\n",
    "                  'source': [0, 0, 1],\n",
    "                  'sector': ['Retail', 'Finance', 'Energy']\n",
    "})"
   ],
   "metadata": {
    "collapsed": false
   }
  },
  {
   "cell_type": "code",
   "execution_count": 5,
   "outputs": [],
   "source": [
    "# expected output:\n",
    "\n",
    "expected_output = pd.DataFrame({\n",
    "'company_name': ['Company A', 'Company B', 'Company C'],\n",
    "'company_country': ['USA', 'Poland', 'Canada'],\n",
    "'keyword': ['holding', 'services', 'source'],\n",
    "'value': [1,0,1],\n",
    "'sector': ['Retail', 'no_sector', 'Energy']\n",
    "})"
   ],
   "metadata": {
    "collapsed": false
   }
  },
  {
   "cell_type": "code",
   "execution_count": null,
   "outputs": [],
   "source": [
    "# map keywords from keyword column in df_1_long value1 -> with keywords - the columns in df_training, if value =1 -> then sector otherwise no sector"
   ],
   "metadata": {
    "collapsed": false
   }
  }
 ],
 "metadata": {
  "kernelspec": {
   "display_name": "Python 3",
   "language": "python",
   "name": "python3"
  },
  "language_info": {
   "codemirror_mode": {
    "name": "ipython",
    "version": 2
   },
   "file_extension": ".py",
   "mimetype": "text/x-python",
   "name": "python",
   "nbconvert_exporter": "python",
   "pygments_lexer": "ipython2",
   "version": "2.7.6"
  }
 },
 "nbformat": 4,
 "nbformat_minor": 0
}
